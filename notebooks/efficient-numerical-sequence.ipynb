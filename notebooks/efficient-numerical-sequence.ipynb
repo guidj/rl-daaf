{
 "cells": [
  {
   "cell_type": "code",
   "execution_count": 1,
   "metadata": {},
   "outputs": [],
   "source": [
    "import itertools\n",
    "import math\n",
    "from typing import Any, Sequence"
   ]
  },
  {
   "cell_type": "code",
   "execution_count": 2,
   "metadata": {},
   "outputs": [],
   "source": [
    "import numpy as np"
   ]
  },
  {
   "cell_type": "code",
   "execution_count": 3,
   "metadata": {},
   "outputs": [],
   "source": [
    "def product_size(actions: int, steps: int):\n",
    "    size = 0\n",
    "    for _ in itertools.product(range(actions), repeat=steps):\n",
    "        size += 1\n",
    "    return size"
   ]
  },
  {
   "cell_type": "code",
   "execution_count": 4,
   "metadata": {},
   "outputs": [],
   "source": [
    "assert product_size(actions=3, steps=2) == 3**2\n",
    "assert product_size(actions=3, steps=5) == 3**5\n",
    "assert product_size(actions=9, steps=3) == 9**3"
   ]
  },
  {
   "cell_type": "code",
   "execution_count": 5,
   "metadata": {},
   "outputs": [],
   "source": [
    "def sequence_to_integer(space_size: int, sequence: Sequence[int]) -> int:\n",
    "    \"\"\"\n",
    "    Uses the positional system of integers to generate a unique\n",
    "    sequence of numbers given represetation integer - `index`.\n",
    "\n",
    "    Args:\n",
    "        space_size: the number of possible digits\n",
    "        sequence_size: the length of the sequence of digits.\n",
    "        index: the index of the unique sequence.\n",
    "    \"\"\"\n",
    "    id = 0\n",
    "    for idx, value_index in enumerate(sequence):\n",
    "        id = id + value_index * int(pow(space_size, idx))\n",
    "    return id\n"
   ]
  },
  {
   "cell_type": "code",
   "execution_count": 6,
   "metadata": {},
   "outputs": [],
   "source": [
    "def interger_to_sequence(\n",
    "    space_size: int, sequence_length: int, index: int\n",
    ") -> Sequence[int]:\n",
    "    \"\"\"\n",
    "    Uses the positional system of integers to generate a unique\n",
    "    sequence of numbers given represetation integer - `index`.\n",
    "\n",
    "    Args:\n",
    "        space_size: the number of possible digits\n",
    "        sequence_length: the length of the sequence of digits.\n",
    "        index: the index of the unique sequence.\n",
    "    \"\"\"\n",
    "    xs = []\n",
    "    for pw in reversed(range(sequence_length)):\n",
    "        if pw == 0:\n",
    "            xs.append(index)\n",
    "        else:\n",
    "            mult = space_size**pw\n",
    "            digit = math.floor(index / mult)\n",
    "            xs.append(digit)\n",
    "            index = index % mult\n",
    "    return tuple(reversed(xs))"
   ]
  },
  {
   "cell_type": "code",
   "execution_count": 7,
   "metadata": {},
   "outputs": [
    {
     "name": "stdout",
     "output_type": "stream",
     "text": [
      "int: 0, seq: (0, 0), recovered-int: 0\n",
      "int: 1, seq: (1, 0), recovered-int: 1\n",
      "int: 2, seq: (2, 0), recovered-int: 2\n",
      "int: 3, seq: (0, 1), recovered-int: 3\n",
      "int: 4, seq: (1, 1), recovered-int: 4\n",
      "int: 5, seq: (2, 1), recovered-int: 5\n",
      "int: 6, seq: (0, 2), recovered-int: 6\n",
      "int: 7, seq: (1, 2), recovered-int: 7\n",
      "int: 8, seq: (2, 2), recovered-int: 8\n"
     ]
    }
   ],
   "source": [
    "space_size = 3\n",
    "sequence_length = 2\n",
    "for idx in range(3**2):\n",
    "    seq = interger_to_sequence(space_size, sequence_length, idx)\n",
    "    recovered_idx = sequence_to_integer(space_size, seq)\n",
    "    print(f\"int: {idx}, seq: {seq}, recovered-int: {recovered_idx}\")"
   ]
  },
  {
   "cell_type": "code",
   "execution_count": 8,
   "metadata": {},
   "outputs": [
    {
     "name": "stdout",
     "output_type": "stream",
     "text": [
      "(0, 0)\n",
      "(1, 0)\n",
      "(2, 0)\n",
      "(0, 1)\n",
      "(1, 1)\n",
      "(2, 1)\n",
      "(0, 2)\n",
      "(1, 2)\n",
      "(2, 2)\n"
     ]
    }
   ],
   "source": [
    "for idx in range(3**2):\n",
    "    print(interger_to_sequence(3, 2, idx))"
   ]
  },
  {
   "cell_type": "code",
   "execution_count": 9,
   "metadata": {},
   "outputs": [],
   "source": [
    "def int_to_code(index: int, space_size: int, sequence_length: int):\n",
    "    \"\"\"\n",
    "    Recursive solution to reconstructing a sequence\n",
    "    from an integer.\n",
    "    \"\"\"\n",
    "    def go(index: int, sequence_length: int, xs):\n",
    "        if sequence_length < 1:\n",
    "            return xs + [index]\n",
    "        mult = space_size ** sequence_length\n",
    "        digit = math.floor(index / mult)\n",
    "        xs.append(digit)\n",
    "\n",
    "        return go(index % mult, sequence_length-1, xs)\n",
    "    return tuple(reversed(go(index, sequence_length - 1, [])))"
   ]
  },
  {
   "cell_type": "code",
   "execution_count": 10,
   "metadata": {},
   "outputs": [
    {
     "name": "stdout",
     "output_type": "stream",
     "text": [
      "id 21791639954251687\n",
      "gen [51, 9, 9, 46, 35, 41, 24, 45, 47, 0]\n",
      "rec (51, 9, 9, 46, 35, 41, 24, 45, 47, 0)\n",
      "remainer 21791639954251687\n"
     ]
    }
   ],
   "source": [
    "import random\n",
    "\n",
    "# 64, 10 works\n",
    "# 68, 10\n",
    "# 79, 10 \n",
    "\n",
    "action_space = tuple(range(68))\n",
    "d = 10\n",
    "sequence = []\n",
    "id = 0\n",
    "for i in range(d):\n",
    "  action = random.choice(action_space)\n",
    "  sequence.append(action)\n",
    "  action_idx = action_space.index(action)\n",
    "  assert action == action_idx\n",
    "  next_ = action_idx * int(np.power(len(action_space), i))\n",
    "  id = id + next_\n",
    "\n",
    "print(\"id\", id)\n",
    "print(\"gen\", sequence)\n",
    "\n",
    "reconstructed = int_to_code(index=id, space_size=len(action_space), sequence_length=d)\n",
    "\n",
    "print(\"rec\", reconstructed)\n",
    "print(\"remainer\", id)\n",
    "assert tuple(sequence) == reconstructed"
   ]
  }
 ],
 "metadata": {
  "kernelspec": {
   "display_name": "rl_daaf_py38",
   "language": "python",
   "name": "python3"
  },
  "language_info": {
   "codemirror_mode": {
    "name": "ipython",
    "version": 3
   },
   "file_extension": ".py",
   "mimetype": "text/x-python",
   "name": "python",
   "nbconvert_exporter": "python",
   "pygments_lexer": "ipython3",
   "version": "3.8.15"
  }
 },
 "nbformat": 4,
 "nbformat_minor": 2
}
