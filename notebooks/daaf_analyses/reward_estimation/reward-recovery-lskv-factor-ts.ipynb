{
 "cells": [
  {
   "cell_type": "code",
   "execution_count": 1,
   "metadata": {
    "editable": true,
    "slideshow": {
     "slide_type": ""
    },
    "tags": []
   },
   "outputs": [],
   "source": [
    "import copy\n",
    "import pathlib\n",
    "import os.path\n",
    "import json\n",
    "import hashlib\n",
    "import itertools\n",
    "import collections\n",
    "from typing import Any, Sequence, Mapping, Set"
   ]
  },
  {
   "cell_type": "code",
   "execution_count": 2,
   "metadata": {},
   "outputs": [
    {
     "name": "stderr",
     "output_type": "stream",
     "text": [
      "2024-08-08 12:40:42.277525: I tensorflow/tsl/cuda/cudart_stub.cc:28] Could not find cuda drivers on your machine, GPU will not be used.\n",
      "2024-08-08 12:40:42.352900: I tensorflow/tsl/cuda/cudart_stub.cc:28] Could not find cuda drivers on your machine, GPU will not be used.\n",
      "2024-08-08 12:40:42.355094: I tensorflow/core/platform/cpu_feature_guard.cc:182] This TensorFlow binary is optimized to use available CPU instructions in performance-critical operations.\n",
      "To enable the following instructions: AVX2 FMA, in other operations, rebuild TensorFlow with the appropriate compiler flags.\n",
      "2024-08-08 12:40:44.074258: W tensorflow/compiler/tf2tensorrt/utils/py_utils.cc:38] TF-TRT Warning: Could not find TensorRT\n"
     ]
    }
   ],
   "source": [
    "import numpy as np\n",
    "import pandas as pd\n",
    "import tensorflow as tf"
   ]
  },
  {
   "cell_type": "code",
   "execution_count": 3,
   "metadata": {},
   "outputs": [],
   "source": [
    "import matplotlib as mpl\n",
    "from matplotlib import pyplot as plt\n",
    "import seaborn as sns"
   ]
  },
  {
   "cell_type": "code",
   "execution_count": 4,
   "metadata": {},
   "outputs": [],
   "source": [
    "from rlplg import envsuite, core\n",
    "from daaf import estimator_metrics"
   ]
  },
  {
   "cell_type": "code",
   "execution_count": 5,
   "metadata": {},
   "outputs": [],
   "source": [
    "ENVS_MAPPING = {\n",
    "    (\n",
    "        \"IceWorld\",\n",
    "        \"4KE3ASUFQGGUPERSDDRQAZAMA46CI2CMCJHGWJ7MRNI64JMEBETNDXFFPYWTQJF46S5BJ4NXXCHNMJSLII3ROYXI76DFOC3VAABGNVA=\",\n",
    "    ): {\"args\": '{\"map_name\": \"4x4\"}', \"name\": \"4x4\"},\n",
    "    (\"ABCSeq\", \"2\"): {\n",
    "        \"args\": '{\"length\": 3, \"distance_penalty\": false}',\n",
    "        \"name\": \"n=3\",\n",
    "    },    \n",
    "    (\"ABCSeq\", \"3\"): {\n",
    "        \"args\": '{\"length\": 3, \"distance_penalty\": false}',\n",
    "        \"name\": \"n=3\",\n",
    "    },    \n",
    "    (\"ABCSeq\", \"10\"): {\n",
    "        \"args\": '{\"length\": 10, \"distance_penalty\": false}',\n",
    "        \"name\": \"n=10\",\n",
    "    },\n",
    "    (\n",
    "        \"RedGreenSeq\",\n",
    "        \"NNLHYJFTC5ENMMDZWRNQ37B6VVDXQ7WHB5EJOPXYZFLMJEZOYLTSLB4ID4WHQG57XQPNUHGZCFDCWHYGXWSBW7FBWYRZGAGBW4J7MEQ=\",\n",
    "    ): {\n",
    "        \"args\": '{\"cure\": [\"red\", \"green\", \"wait\", \"green\", \"red\", \"red\", \"green\", \"wait\"]}',\n",
    "        \"name\": \"n=9\",\n",
    "    },\n",
    "    (\n",
    "        \"FrozenLake-v1\",\n",
    "        \"U75ZLQLLXYRFQE5KOJJGNVQZGQ65U5RVVN3ZV5F4UNYQVK6NGTAAU62O2DKMOEGACNNUQOSWGYYOV7LQHK7GAWG2CL3U3RZJFIEIB5I=\",\n",
    "    ): {\"args\": '{\"is_slippery\": false, \"map_name\": \"4x4\"}', \"name\": \"4x4\"},\n",
    "    (\"TowerOfHanoi\", \"4\"): {\"args\": '{\"num_disks\": 4}', \"name\": \"disks=4\"},\n",
    "    (\"ABCSeq\", \"7\"): {\n",
    "        \"args\": '{\"length\": 7, \"distance_penalty\": false}',\n",
    "        \"name\": \"n=7\",\n",
    "    },\n",
    "    (\n",
    "        \"IceWorld\",\n",
    "        \"JKNDNWGM45FELU53ZLLVJEPY2SFZBCX54PSACOQOFMTDUAK5VNQ4KE45QZINGYFU5GR6D7F3GJMW7EC4TAY5PHCYRN5GPGP7YNACHEI=\",\n",
    "    ): {\"args\": '{\"map_name\": \"8x8\"}', \"name\": \"8x8\"},\n",
    "    (\n",
    "        \"GridWorld\",\n",
    "        \"P3VJZBIJ7PNUOFG2SCF532NH5AQ6NOBZEZ6UZNZ7D3AU3GQZSLKURMS2SRPEUF6O65F3ETJXEFNTR3UYS73TUCIIU3YIONXHAR6WE5A=\",\n",
    "    ): {\n",
    "        \"args\": '{\"grid\": \"oooooooooooo\\\\noooooooooooo\\\\noooooooooooo\\\\nsxxxxxxxxxxg\"}',\n",
    "        \"name\": \"4x12\",\n",
    "    },\n",
    "}"
   ]
  },
  {
   "cell_type": "code",
   "execution_count": 6,
   "metadata": {},
   "outputs": [],
   "source": [
    "EXCLUDED_ENVS = set([\"FrozenLake-v1\"])"
   ]
  },
  {
   "cell_type": "markdown",
   "metadata": {},
   "source": [
    "## Load Data"
   ]
  },
  {
   "cell_type": "code",
   "execution_count": 7,
   "metadata": {},
   "outputs": [],
   "source": [
    "PATH = str(pathlib.Path.home() / \"fs/daaf/exp/reward-recovery/1723120236-report.json\")"
   ]
  },
  {
   "cell_type": "code",
   "execution_count": 8,
   "metadata": {},
   "outputs": [],
   "source": [
    "def read_data(path: str) -> pd.DataFrame:\n",
    "    return pd.read_json(path)"
   ]
  },
  {
   "cell_type": "code",
   "execution_count": 9,
   "metadata": {},
   "outputs": [],
   "source": [
    "df_raw = read_data(PATH)"
   ]
  },
  {
   "cell_type": "code",
   "execution_count": 10,
   "metadata": {},
   "outputs": [
    {
     "data": {
      "text/html": [
       "<div>\n",
       "<style scoped>\n",
       "    .dataframe tbody tr th:only-of-type {\n",
       "        vertical-align: middle;\n",
       "    }\n",
       "\n",
       "    .dataframe tbody tr th {\n",
       "        vertical-align: top;\n",
       "    }\n",
       "\n",
       "    .dataframe thead th {\n",
       "        text-align: right;\n",
       "    }\n",
       "</style>\n",
       "<table border=\"1\" class=\"dataframe\">\n",
       "  <thead>\n",
       "    <tr style=\"text-align: right;\">\n",
       "      <th></th>\n",
       "      <th>spec</th>\n",
       "      <th>method</th>\n",
       "      <th>output</th>\n",
       "    </tr>\n",
       "  </thead>\n",
       "  <tbody>\n",
       "    <tr>\n",
       "      <th>0</th>\n",
       "      <td>{'name': 'ABCSeq', 'args': {'length': 3, 'dist...</td>\n",
       "      <td>factor-ts</td>\n",
       "      <td>{'least': [[-1.1666666667, -0.75, -1.083333333...</td>\n",
       "    </tr>\n",
       "    <tr>\n",
       "      <th>1</th>\n",
       "      <td>{'name': 'ABCSeq', 'args': {'length': 2, 'dist...</td>\n",
       "      <td>factor-ts</td>\n",
       "      <td>{'least': [[-1.0, -1.0], [-1.0, -1.0]], 'ols-e...</td>\n",
       "    </tr>\n",
       "    <tr>\n",
       "      <th>2</th>\n",
       "      <td>{'name': 'RedGreenSeq', 'args': {'cure': ['red...</td>\n",
       "      <td>factor-ts</td>\n",
       "      <td>{'least': [[-1.0, -1.0, -1.0], [-1.0, -1.0, -1...</td>\n",
       "    </tr>\n",
       "    <tr>\n",
       "      <th>3</th>\n",
       "      <td>{'name': 'RedGreenSeq', 'args': {'cure': ['red...</td>\n",
       "      <td>plain</td>\n",
       "      <td>{'least': [[-1.0, -1.0, -1.0], [-1.0, -1.0, -1...</td>\n",
       "    </tr>\n",
       "    <tr>\n",
       "      <th>4</th>\n",
       "      <td>{'name': 'ABCSeq', 'args': {'length': 3, 'dist...</td>\n",
       "      <td>plain</td>\n",
       "      <td>{'least': [[-1.0, -1.0, -1.0], [-1.0, -1.0, -1...</td>\n",
       "    </tr>\n",
       "    <tr>\n",
       "      <th>5</th>\n",
       "      <td>{'name': 'ABCSeq', 'args': {'length': 2, 'dist...</td>\n",
       "      <td>plain</td>\n",
       "      <td>{'least': [[-1.0, -1.0], [-1.0, -1.0], [0.0, 0...</td>\n",
       "    </tr>\n",
       "  </tbody>\n",
       "</table>\n",
       "</div>"
      ],
      "text/plain": [
       "                                                spec     method  \\\n",
       "0  {'name': 'ABCSeq', 'args': {'length': 3, 'dist...  factor-ts   \n",
       "1  {'name': 'ABCSeq', 'args': {'length': 2, 'dist...  factor-ts   \n",
       "2  {'name': 'RedGreenSeq', 'args': {'cure': ['red...  factor-ts   \n",
       "3  {'name': 'RedGreenSeq', 'args': {'cure': ['red...      plain   \n",
       "4  {'name': 'ABCSeq', 'args': {'length': 3, 'dist...      plain   \n",
       "5  {'name': 'ABCSeq', 'args': {'length': 2, 'dist...      plain   \n",
       "\n",
       "                                              output  \n",
       "0  {'least': [[-1.1666666667, -0.75, -1.083333333...  \n",
       "1  {'least': [[-1.0, -1.0], [-1.0, -1.0]], 'ols-e...  \n",
       "2  {'least': [[-1.0, -1.0, -1.0], [-1.0, -1.0, -1...  \n",
       "3  {'least': [[-1.0, -1.0, -1.0], [-1.0, -1.0, -1...  \n",
       "4  {'least': [[-1.0, -1.0, -1.0], [-1.0, -1.0, -1...  \n",
       "5  {'least': [[-1.0, -1.0], [-1.0, -1.0], [0.0, 0...  "
      ]
     },
     "execution_count": 10,
     "metadata": {},
     "output_type": "execute_result"
    }
   ],
   "source": [
    "df_raw"
   ]
  },
  {
   "cell_type": "code",
   "execution_count": 11,
   "metadata": {},
   "outputs": [
    {
     "data": {
      "text/plain": [
       "{'name': 'ABCSeq', 'args': {'length': 3, 'distance_penalty': False}}"
      ]
     },
     "execution_count": 11,
     "metadata": {},
     "output_type": "execute_result"
    }
   ],
   "source": [
    "df_raw.iloc[0][\"spec\"]"
   ]
  },
  {
   "cell_type": "code",
   "execution_count": 12,
   "metadata": {},
   "outputs": [],
   "source": [
    "def get_env_level(env_spec):\n",
    "    loaded_env_spec = envsuite.load(env_spec[\"name\"], **env_spec[\"args\"])\n",
    "    return loaded_env_spec.level"
   ]
  },
  {
   "cell_type": "code",
   "execution_count": 13,
   "metadata": {},
   "outputs": [
    {
     "data": {
      "text/plain": [
       "'3'"
      ]
     },
     "execution_count": 13,
     "metadata": {},
     "output_type": "execute_result"
    }
   ],
   "source": [
    "get_env_level(df_raw.iloc[0][\"spec\"])"
   ]
  },
  {
   "cell_type": "code",
   "execution_count": 14,
   "metadata": {},
   "outputs": [],
   "source": [
    "def proc_data(df_raw: pd.DataFrame) -> pd.DataFrame:\n",
    "    rows = []\n",
    "    for row in df_raw.to_dict(\"records\"):\n",
    "        new_row = copy.deepcopy(row)\n",
    "        \n",
    "        # add env id;\n",
    "        new_row[\"env_name\"] = new_row[\"spec\"][\"name\"]\n",
    "        new_row[\"env_level\"] = get_env_level(new_row[\"spec\"])\n",
    "        eid = (new_row[\"spec\"][\"name\"], new_row[\"env_level\"])\n",
    "        new_row[\"env_label\"] = ENVS_MAPPING[eid][\"name\"]\n",
    "        rows.append(new_row)\n",
    "    return pd.DataFrame(rows)"
   ]
  },
  {
   "cell_type": "code",
   "execution_count": 15,
   "metadata": {},
   "outputs": [],
   "source": [
    "df_results = proc_data(df_raw)"
   ]
  },
  {
   "cell_type": "code",
   "execution_count": 16,
   "metadata": {},
   "outputs": [
    {
     "data": {
      "text/html": [
       "<div>\n",
       "<style scoped>\n",
       "    .dataframe tbody tr th:only-of-type {\n",
       "        vertical-align: middle;\n",
       "    }\n",
       "\n",
       "    .dataframe tbody tr th {\n",
       "        vertical-align: top;\n",
       "    }\n",
       "\n",
       "    .dataframe thead th {\n",
       "        text-align: right;\n",
       "    }\n",
       "</style>\n",
       "<table border=\"1\" class=\"dataframe\">\n",
       "  <thead>\n",
       "    <tr style=\"text-align: right;\">\n",
       "      <th></th>\n",
       "      <th>spec</th>\n",
       "      <th>method</th>\n",
       "      <th>output</th>\n",
       "      <th>env_name</th>\n",
       "      <th>env_level</th>\n",
       "      <th>env_label</th>\n",
       "    </tr>\n",
       "  </thead>\n",
       "  <tbody>\n",
       "    <tr>\n",
       "      <th>0</th>\n",
       "      <td>{'name': 'ABCSeq', 'args': {'length': 3, 'dist...</td>\n",
       "      <td>factor-ts</td>\n",
       "      <td>{'least': [[-1.1666666667, -0.75, -1.083333333...</td>\n",
       "      <td>ABCSeq</td>\n",
       "      <td>3</td>\n",
       "      <td>n=3</td>\n",
       "    </tr>\n",
       "    <tr>\n",
       "      <th>1</th>\n",
       "      <td>{'name': 'ABCSeq', 'args': {'length': 2, 'dist...</td>\n",
       "      <td>factor-ts</td>\n",
       "      <td>{'least': [[-1.0, -1.0], [-1.0, -1.0]], 'ols-e...</td>\n",
       "      <td>ABCSeq</td>\n",
       "      <td>2</td>\n",
       "      <td>n=3</td>\n",
       "    </tr>\n",
       "    <tr>\n",
       "      <th>2</th>\n",
       "      <td>{'name': 'RedGreenSeq', 'args': {'cure': ['red...</td>\n",
       "      <td>factor-ts</td>\n",
       "      <td>{'least': [[-1.0, -1.0, -1.0], [-1.0, -1.0, -1...</td>\n",
       "      <td>RedGreenSeq</td>\n",
       "      <td>NNLHYJFTC5ENMMDZWRNQ37B6VVDXQ7WHB5EJOPXYZFLMJE...</td>\n",
       "      <td>n=9</td>\n",
       "    </tr>\n",
       "    <tr>\n",
       "      <th>3</th>\n",
       "      <td>{'name': 'RedGreenSeq', 'args': {'cure': ['red...</td>\n",
       "      <td>plain</td>\n",
       "      <td>{'least': [[-1.0, -1.0, -1.0], [-1.0, -1.0, -1...</td>\n",
       "      <td>RedGreenSeq</td>\n",
       "      <td>NNLHYJFTC5ENMMDZWRNQ37B6VVDXQ7WHB5EJOPXYZFLMJE...</td>\n",
       "      <td>n=9</td>\n",
       "    </tr>\n",
       "    <tr>\n",
       "      <th>4</th>\n",
       "      <td>{'name': 'ABCSeq', 'args': {'length': 3, 'dist...</td>\n",
       "      <td>plain</td>\n",
       "      <td>{'least': [[-1.0, -1.0, -1.0], [-1.0, -1.0, -1...</td>\n",
       "      <td>ABCSeq</td>\n",
       "      <td>3</td>\n",
       "      <td>n=3</td>\n",
       "    </tr>\n",
       "    <tr>\n",
       "      <th>5</th>\n",
       "      <td>{'name': 'ABCSeq', 'args': {'length': 2, 'dist...</td>\n",
       "      <td>plain</td>\n",
       "      <td>{'least': [[-1.0, -1.0], [-1.0, -1.0], [0.0, 0...</td>\n",
       "      <td>ABCSeq</td>\n",
       "      <td>2</td>\n",
       "      <td>n=3</td>\n",
       "    </tr>\n",
       "  </tbody>\n",
       "</table>\n",
       "</div>"
      ],
      "text/plain": [
       "                                                spec     method  \\\n",
       "0  {'name': 'ABCSeq', 'args': {'length': 3, 'dist...  factor-ts   \n",
       "1  {'name': 'ABCSeq', 'args': {'length': 2, 'dist...  factor-ts   \n",
       "2  {'name': 'RedGreenSeq', 'args': {'cure': ['red...  factor-ts   \n",
       "3  {'name': 'RedGreenSeq', 'args': {'cure': ['red...      plain   \n",
       "4  {'name': 'ABCSeq', 'args': {'length': 3, 'dist...      plain   \n",
       "5  {'name': 'ABCSeq', 'args': {'length': 2, 'dist...      plain   \n",
       "\n",
       "                                              output     env_name  \\\n",
       "0  {'least': [[-1.1666666667, -0.75, -1.083333333...       ABCSeq   \n",
       "1  {'least': [[-1.0, -1.0], [-1.0, -1.0]], 'ols-e...       ABCSeq   \n",
       "2  {'least': [[-1.0, -1.0, -1.0], [-1.0, -1.0, -1...  RedGreenSeq   \n",
       "3  {'least': [[-1.0, -1.0, -1.0], [-1.0, -1.0, -1...  RedGreenSeq   \n",
       "4  {'least': [[-1.0, -1.0, -1.0], [-1.0, -1.0, -1...       ABCSeq   \n",
       "5  {'least': [[-1.0, -1.0], [-1.0, -1.0], [0.0, 0...       ABCSeq   \n",
       "\n",
       "                                           env_level env_label  \n",
       "0                                                  3       n=3  \n",
       "1                                                  2       n=3  \n",
       "2  NNLHYJFTC5ENMMDZWRNQ37B6VVDXQ7WHB5EJOPXYZFLMJE...       n=9  \n",
       "3  NNLHYJFTC5ENMMDZWRNQ37B6VVDXQ7WHB5EJOPXYZFLMJE...       n=9  \n",
       "4                                                  3       n=3  \n",
       "5                                                  2       n=3  "
      ]
     },
     "execution_count": 16,
     "metadata": {},
     "output_type": "execute_result"
    }
   ],
   "source": [
    "df_results"
   ]
  },
  {
   "cell_type": "code",
   "execution_count": 18,
   "metadata": {},
   "outputs": [
    {
     "data": {
      "text/plain": [
       "('factor-ts',\n",
       " [[1.0, 1.0, 1.0, 1.0, 0.0, 0.0, 0.0, 0.0, 0.0],\n",
       "  [1.0, 0.0, 1.0, 0.0, 1.0, 0.0, 1.0, 0.0, 0.0],\n",
       "  [0.0, 0.0, 0.0, 0.0, 0.0, 0.0, 1.0, 3.0, 0.0],\n",
       "  [0.0, 0.0, 0.0, 0.0, 0.0, 0.0, 2.0, 0.0, 1.0],\n",
       "  [1.0, 0.0, 0.0, 0.0, 1.0, 1.0, 0.0, 1.0, 0.0],\n",
       "  [1.0, 0.0, 1.0, 0.0, 1.0, 0.0, 0.0, 0.0, 1.0],\n",
       "  [1.0, 0.0, 0.0, 1.0, 1.0, 1.0, 0.0, 0.0, 0.0],\n",
       "  [0.0, 0.0, 0.0, 0.0, 0.0, 0.0, 0.0, 4.0, 0.0],\n",
       "  [0.0, 1.0, 3.0, 0.0, 0.0, 0.0, 0.0, 0.0, 0.0]],\n",
       " [-4.0, -4.0, -4.0, -3.0, -4.0, -4.0, -4.0, -4.0, -4.0],\n",
       " [[-1.1666666667, -0.75, -1.0833333333],\n",
       "  [-1.0, -0.75, -1.0833333333],\n",
       "  [-1.0, -1.0, -1.0]])"
      ]
     },
     "execution_count": 18,
     "metadata": {},
     "output_type": "execute_result"
    }
   ],
   "source": [
    "df_results.iloc[0][\"method\"], df_results.iloc[0][\"output\"][\"matrix\"], df_results.iloc[0][\"output\"][\"rhs\"], df_results.iloc[0][\"output\"][\"least\"]"
   ]
  },
  {
   "cell_type": "markdown",
   "metadata": {},
   "source": [
    "The factor-ts matrix above excludes terminal states."
   ]
  },
  {
   "cell_type": "code",
   "execution_count": 19,
   "metadata": {},
   "outputs": [
    {
     "data": {
      "text/plain": [
       "('plain',\n",
       " [[1.0, 2.0, 0.0, 1.0, 0.0, 0.0, 0.0, 0.0, 0.0, 0.0, 0.0, 0.0],\n",
       "  [0.0, 0.0, 0.0, 1.0, 1.0, 1.0, 0.0, 0.0, 1.0, 0.0, 0.0, 0.0],\n",
       "  [1.0, 1.0, 1.0, 1.0, 0.0, 0.0, 0.0, 0.0, 0.0, 0.0, 0.0, 0.0],\n",
       "  [0.0, 0.0, 0.0, 1.0, 1.0, 0.0, 1.0, 1.0, 0.0, 0.0, 0.0, 0.0],\n",
       "  [0.0, 0.0, 0.0, 0.0, 0.0, 0.0, 1.0, 2.0, 1.0, 0.0, 0.0, 0.0],\n",
       "  [0.0, 1.0, 3.0, 0.0, 0.0, 0.0, 0.0, 0.0, 0.0, 0.0, 0.0, 0.0],\n",
       "  [1.0, 0.0, 0.0, 1.0, 1.0, 0.0, 1.0, 0.0, 0.0, 0.0, 0.0, 0.0],\n",
       "  [0.0, 0.0, 0.0, 0.0, 0.0, 0.0, 1.0, 1.0, 1.0, 1.0, 0.0, 0.0],\n",
       "  [1.0, 1.0, 0.0, 1.0, 1.0, 0.0, 0.0, 0.0, 0.0, 0.0, 0.0, 0.0],\n",
       "  [0.0, 0.0, 0.0, 0.0, 0.0, 0.0, 1.0, 1.0, 1.0, 0.0, 1.0, 0.0],\n",
       "  [0.0, 0.0, 0.0, 2.0, 0.0, 2.0, 0.0, 0.0, 0.0, 0.0, 0.0, 0.0],\n",
       "  [1.0, 0.0, 0.0, 0.0, 1.0, 0.0, 0.0, 0.0, 1.0, 0.0, 0.0, 1.0]],\n",
       " [-4.0, -4.0, -4.0, -4.0, -4.0, -4.0, -4.0, -3.0, -4.0, -3.0, -4.0, -3.0],\n",
       " [[-1.0, -1.0, -1.0],\n",
       "  [-1.0, -1.0, -1.0],\n",
       "  [-1.0, -1.0, -1.0],\n",
       "  [3.7021965659999997e-16, 2.908664673e-16, -0.0]])"
      ]
     },
     "execution_count": 19,
     "metadata": {},
     "output_type": "execute_result"
    }
   ],
   "source": [
    "df_results.iloc[4][\"method\"], df_results.iloc[4][\"output\"][\"matrix\"], df_results.iloc[4][\"output\"][\"rhs\"], df_results.iloc[4][\"output\"][\"least\"]"
   ]
  },
  {
   "cell_type": "markdown",
   "metadata": {},
   "source": [
    "The `factor-ts` estimate above is an example of cases where reward recovery has multiple possible solutions. Without any compensating strategies, the rewards learned in such cases can be incorrect.\n",
    "\n",
    "The `plain` estimate has correct values for most state-action pairs - this is because visitations to the terminal state anchor the values of non-terminal states visited before it.\n",
    "Still, there are some minor errors in the values estimates of rewards for the terminal states, which can be manually corrected since we know them."
   ]
  }
 ],
 "metadata": {
  "kernelspec": {
   "display_name": "Python 3 (ipykernel)",
   "language": "python",
   "name": "python3"
  },
  "language_info": {
   "codemirror_mode": {
    "name": "ipython",
    "version": 3
   },
   "file_extension": ".py",
   "mimetype": "text/x-python",
   "name": "python",
   "nbconvert_exporter": "python",
   "pygments_lexer": "ipython3",
   "version": "3.9.16"
  }
 },
 "nbformat": 4,
 "nbformat_minor": 4
}
