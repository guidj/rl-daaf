{
 "cells": [
  {
   "cell_type": "code",
   "execution_count": 1,
   "metadata": {},
   "outputs": [],
   "source": [
    "import numpy as np\n",
    "import pandas as pd\n",
    "import pathlib\n",
    "import os.path"
   ]
  },
  {
   "cell_type": "code",
   "execution_count": 2,
   "metadata": {},
   "outputs": [],
   "source": [
    "df_results = pd.read_json(\n",
    "    os.path.join(str(pathlib.Path.home()), \"fs/exp/reward-recovery/1708735081-report.json\")\n",
    ")"
   ]
  },
  {
   "cell_type": "code",
   "execution_count": 3,
   "metadata": {},
   "outputs": [
    {
     "data": {
      "text/html": [
       "<div>\n",
       "<style scoped>\n",
       "    .dataframe tbody tr th:only-of-type {\n",
       "        vertical-align: middle;\n",
       "    }\n",
       "\n",
       "    .dataframe tbody tr th {\n",
       "        vertical-align: top;\n",
       "    }\n",
       "\n",
       "    .dataframe thead th {\n",
       "        text-align: right;\n",
       "    }\n",
       "</style>\n",
       "<table border=\"1\" class=\"dataframe\">\n",
       "  <thead>\n",
       "    <tr style=\"text-align: right;\">\n",
       "      <th></th>\n",
       "      <th>spec</th>\n",
       "      <th>least</th>\n",
       "      <th>ols-em</th>\n",
       "    </tr>\n",
       "  </thead>\n",
       "  <tbody>\n",
       "    <tr>\n",
       "      <th>0</th>\n",
       "      <td>{'name': 'FrozenLake-v1', 'args': {'is_slipper...</td>\n",
       "      <td>[[1e-10, -1.4000000000000001e-09, -7.000000000...</td>\n",
       "      <td>[[None, None, None, None], [None, None, None, ...</td>\n",
       "    </tr>\n",
       "    <tr>\n",
       "      <th>1</th>\n",
       "      <td>{'name': 'RedGreenSeq', 'args': {'cure': ['red...</td>\n",
       "      <td>[[-0.9999997616, -2.0000007153, -1.99999928469...</td>\n",
       "      <td>[[-0.9999998764, -2.0000000622, -2.0000000216]...</td>\n",
       "    </tr>\n",
       "    <tr>\n",
       "      <th>2</th>\n",
       "      <td>{'name': 'ABCSeq', 'args': {'length': 7}}</td>\n",
       "      <td>[[-0.9999991655, -2.0000002384, -3.0000026226,...</td>\n",
       "      <td>[[-1.0000000095, -1.9999999988, -2.9999999976,...</td>\n",
       "    </tr>\n",
       "    <tr>\n",
       "      <th>3</th>\n",
       "      <td>{'name': 'IceWorld', 'args': {'map_name': '4x4'}}</td>\n",
       "      <td>[[-1.0000002384, -0.9999994040000001, -0.99999...</td>\n",
       "      <td>[[-1.0000007891, -1.0000016741, -1.0000006982,...</td>\n",
       "    </tr>\n",
       "    <tr>\n",
       "      <th>4</th>\n",
       "      <td>{'name': 'GridWorld', 'args': {'grid': 'oooooo...</td>\n",
       "      <td>[[-1.0000007153, -0.9999993443, -0.9999995828,...</td>\n",
       "      <td>[[-1.0, -0.9999999982000001, -1.0, -0.99999999...</td>\n",
       "    </tr>\n",
       "    <tr>\n",
       "      <th>5</th>\n",
       "      <td>{'name': 'TowerOfHanoi', 'args': {'num_disks':...</td>\n",
       "      <td>[[-1.0000001192, -0.9999997616, -2.0000009537,...</td>\n",
       "      <td>[[-1.0, -1.0, -2.0, -2.0, -2.0, -2.0], [-0.999...</td>\n",
       "    </tr>\n",
       "  </tbody>\n",
       "</table>\n",
       "</div>"
      ],
      "text/plain": [
       "                                                spec  \\\n",
       "0  {'name': 'FrozenLake-v1', 'args': {'is_slipper...   \n",
       "1  {'name': 'RedGreenSeq', 'args': {'cure': ['red...   \n",
       "2          {'name': 'ABCSeq', 'args': {'length': 7}}   \n",
       "3  {'name': 'IceWorld', 'args': {'map_name': '4x4'}}   \n",
       "4  {'name': 'GridWorld', 'args': {'grid': 'oooooo...   \n",
       "5  {'name': 'TowerOfHanoi', 'args': {'num_disks':...   \n",
       "\n",
       "                                               least  \\\n",
       "0  [[1e-10, -1.4000000000000001e-09, -7.000000000...   \n",
       "1  [[-0.9999997616, -2.0000007153, -1.99999928469...   \n",
       "2  [[-0.9999991655, -2.0000002384, -3.0000026226,...   \n",
       "3  [[-1.0000002384, -0.9999994040000001, -0.99999...   \n",
       "4  [[-1.0000007153, -0.9999993443, -0.9999995828,...   \n",
       "5  [[-1.0000001192, -0.9999997616, -2.0000009537,...   \n",
       "\n",
       "                                              ols-em  \n",
       "0  [[None, None, None, None], [None, None, None, ...  \n",
       "1  [[-0.9999998764, -2.0000000622, -2.0000000216]...  \n",
       "2  [[-1.0000000095, -1.9999999988, -2.9999999976,...  \n",
       "3  [[-1.0000007891, -1.0000016741, -1.0000006982,...  \n",
       "4  [[-1.0, -0.9999999982000001, -1.0, -0.99999999...  \n",
       "5  [[-1.0, -1.0, -2.0, -2.0, -2.0, -2.0], [-0.999...  "
      ]
     },
     "execution_count": 3,
     "metadata": {},
     "output_type": "execute_result"
    }
   ],
   "source": [
    "df_results"
   ]
  },
  {
   "cell_type": "code",
   "execution_count": 4,
   "metadata": {},
   "outputs": [
    {
     "name": "stdout",
     "output_type": "stream",
     "text": [
      "env: RedGreenSeq({'cure': ['red', 'green', 'wait', 'green', 'red', 'red', 'green', 'wait']}): True; MeanAbsError: 0.00011085625555561268\n",
      "env: ABCSeq({'length': 7}): True; MeanAbsError: 0.00047056320000015783\n",
      "env: IceWorld({'map_name': '4x4'}): True; MeanAbsError: 0.0011881916562505072\n",
      "env: GridWorld({'grid': 'oooooooooooo\\noooooooooooo\\noooooooooooo\\nsxxxxxxxxxxg'}): True; MeanAbsError: 4.7882594737652565e-05\n",
      "env: TowerOfHanoi({'num_disks': 4}): True; MeanAbsError: 3.478436913579815e-05\n"
     ]
    }
   ],
   "source": [
    "for row in df_results.to_dict('records'):\n",
    "    name = row[\"spec\"][\"name\"]\n",
    "    args = row[\"spec\"][\"args\"]\n",
    "    least = np.array(row[\"least\"], dtype=np.float64)\n",
    "    ols_em = np.array(row[\"ols-em\"], dtype=np.float64)\n",
    "    if np.sum(np.isnan(least)) > 0 or np.sum(np.isnan(ols_em)) > 0:\n",
    "        continue\n",
    "    mae = np.sum(np.abs(least - ols_em)) / len(least)\n",
    "    equality = np.allclose(least, ols_em, atol=1e-02)\n",
    "    print(f\"env: {name}({args}): {equality}; MeanAbsError: {mae}\")\n",
    "    # "
   ]
  }
 ],
 "metadata": {
  "kernelspec": {
   "display_name": "rl_daaf_py38",
   "language": "python",
   "name": "python3"
  },
  "language_info": {
   "codemirror_mode": {
    "name": "ipython",
    "version": 3
   },
   "file_extension": ".py",
   "mimetype": "text/x-python",
   "name": "python",
   "nbconvert_exporter": "python",
   "pygments_lexer": "ipython3",
   "version": "3.8.15"
  }
 },
 "nbformat": 4,
 "nbformat_minor": 2
}
