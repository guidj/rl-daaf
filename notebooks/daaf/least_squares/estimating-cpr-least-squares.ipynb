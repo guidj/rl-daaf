{
 "cells": [
  {
   "cell_type": "markdown",
   "id": "precise-thread",
   "metadata": {},
   "source": [
    "# Estimating Cumulative Periodic Rewards (CPR) using Least Squares"
   ]
  },
  {
   "cell_type": "markdown",
   "id": "primary-workplace",
   "metadata": {},
   "source": [
    "In order to evaluate a policy, algorithms such as n-step SARSA and Monte Carlo rely on rewards being available for every action.\n",
    "In this notebook, we explore the problem of cumulative periodic rewards - rewards that are made avaiable every K steps, and represent an aggreate over the rewards of the last previous steps.\n",
    "\n",
    "We investigate the method of Least Squares to estimate the true rewards of state action pairs."
   ]
  },
  {
   "cell_type": "code",
   "execution_count": 1,
   "id": "historic-karaoke",
   "metadata": {},
   "outputs": [],
   "source": [
    "import pathlib\n",
    "import os\n",
    "import os.path\n",
    "import json\n",
    "import getpass\n",
    "import glob\n",
    "from typing import Any, Callable, Sequence, Mapping, Text, Union, Tuple\n",
    "import copy\n",
    "import itertools\n",
    "\n",
    "import pandas\n",
    "import seaborn as sns\n",
    "import matplotlib.pyplot as plt\n",
    "import numpy as np\n",
    "import tensorflow as tf\n",
    "import logging"
   ]
  },
  {
   "cell_type": "markdown",
   "id": "minus-observation",
   "metadata": {},
   "source": [
    "## Data"
   ]
  },
  {
   "cell_type": "markdown",
   "id": "ranking-planner",
   "metadata": {},
   "source": [
    "  - Problem ABC\n",
    "  - Difficulty: 3 letters (4 states, 4 actions)\n",
    "  - Reward Period: 2 (every 2 steps)\n"
   ]
  },
  {
   "cell_type": "code",
   "execution_count": 2,
   "id": "optimum-flood",
   "metadata": {},
   "outputs": [],
   "source": [
    "%matplotlib inline"
   ]
  },
  {
   "cell_type": "code",
   "execution_count": 3,
   "id": "dental-cuisine",
   "metadata": {},
   "outputs": [],
   "source": [
    "LOGS = pathlib.Path(\n",
    "    f\"/Users/{getpass.getuser()}/fs/abc/trajectory/L03/1621248247/1621248252\"\n",
    ")"
   ]
  },
  {
   "cell_type": "code",
   "execution_count": 4,
   "id": "recognized-guyana",
   "metadata": {},
   "outputs": [],
   "source": [
    "def log_files(path: pathlib.Path):\n",
    "    return glob.glob(str(os.path.join(path, \"partition-*.json\")))"
   ]
  },
  {
   "cell_type": "code",
   "execution_count": 5,
   "id": "silent-evidence",
   "metadata": {},
   "outputs": [],
   "source": [
    "def load_logs_as_dataset(path: pathlib.Path):\n",
    "    files = log_files(path)\n",
    "    traj = []\n",
    "    for filename in files:\n",
    "        with open(filename, \"r\") as reader:\n",
    "            for line in reader:\n",
    "                traj.append(json.loads(line))\n",
    "    return traj"
   ]
  },
  {
   "cell_type": "code",
   "execution_count": 6,
   "id": "arranged-fruit",
   "metadata": {},
   "outputs": [],
   "source": [
    "logs = load_logs_as_dataset(LOGS)"
   ]
  },
  {
   "cell_type": "code",
   "execution_count": 7,
   "id": "electronic-brain",
   "metadata": {},
   "outputs": [
    {
     "data": {
      "text/plain": [
       "3860"
      ]
     },
     "execution_count": 7,
     "metadata": {},
     "output_type": "execute_result"
    }
   ],
   "source": [
    "len(logs)"
   ]
  },
  {
   "cell_type": "code",
   "execution_count": 8,
   "id": "fitting-castle",
   "metadata": {},
   "outputs": [],
   "source": [
    "def state_id(observation: np.ndarray) -> int:\n",
    "    \"\"\"\n",
    "    Each letter can be a zero or one.\n",
    "    They can only be learned in order.\n",
    "    There is one dummy value of one in the observation.\n",
    "    For two letters:\n",
    "        [1, 0, 0] = 0 (starting state)\n",
    "        [1, 1, 0] = 1\n",
    "        [1, 1, 1] = 2\n",
    "    \"\"\"\n",
    "    return np.sum(observation) - 1"
   ]
  },
  {
   "cell_type": "markdown",
   "id": "outer-paste",
   "metadata": {},
   "source": [
    "## Data Validity Completeness\n"
   ]
  },
  {
   "cell_type": "markdown",
   "id": "interior-thesis",
   "metadata": {},
   "source": [
    "First, let's check if our data vaoid sub-trajectories - because we use TFUniformReplayBuffer, it's does a best effort at ensuring transitions are sampled in order, but there is no guarantee."
   ]
  },
  {
   "cell_type": "code",
   "execution_count": 9,
   "id": "friendly-ordering",
   "metadata": {},
   "outputs": [],
   "source": [
    "# use permutations\n",
    "# remove any where i > j - we only need one value per combination, because"
   ]
  },
  {
   "cell_type": "code",
   "execution_count": 10,
   "id": "varied-process",
   "metadata": {},
   "outputs": [],
   "source": [
    "def is_valid_tensition(\n",
    "    transitions: Tuple[Tuple, Tuple], num_letters: int\n",
    ") -> Sequence[Tuple[Tuple, Tuple]]:\n",
    "    \"\"\"\n",
    "    Generates a sequence of possible transitions\n",
    "    \"\"\"\n",
    "    for i in range(len(transitions) - 1):\n",
    "        begin_state, begin_action = transitions[i]\n",
    "        end_state, _ = transitions[i + 1]\n",
    "        if begin_state > end_state:\n",
    "            return False\n",
    "        if end_state - begin_state > 1:\n",
    "            return False\n",
    "        if end_state - begin_state == 1 and begin_state != begin_action:\n",
    "            return False\n",
    "    return True"
   ]
  },
  {
   "cell_type": "code",
   "execution_count": 11,
   "id": "plastic-donor",
   "metadata": {},
   "outputs": [],
   "source": [
    "def validity_check(logs: Sequence[Any], num_letters: int) -> bool:\n",
    "    invalid = set()\n",
    "    invalid_count = 0\n",
    "\n",
    "    for traj in logs:\n",
    "        # assumed to be 2\n",
    "        steps = len(traj[\"step_type\"])\n",
    "        transitions = []\n",
    "        for step in range(steps):\n",
    "            state = state_id(traj[\"observation\"][step])\n",
    "            action = traj[\"action\"][step]\n",
    "            transitions.append((state, action))\n",
    "        transitions = tuple(transitions)\n",
    "        if not is_valid_tensition(transitions, num_letters):\n",
    "            invalid.add(transitions)\n",
    "            invalid_count += 1\n",
    "    return invalid_count > 1, {\"invalid\": {\"unique\": invalid, \"count\": invalid_count}}"
   ]
  },
  {
   "cell_type": "code",
   "execution_count": 12,
   "id": "handy-alignment",
   "metadata": {},
   "outputs": [],
   "source": [
    "has_invalid, invalid_info = validity_check(logs, num_letters=7)"
   ]
  },
  {
   "cell_type": "code",
   "execution_count": 13,
   "id": "killing-collective",
   "metadata": {},
   "outputs": [
    {
     "data": {
      "text/plain": [
       "True"
      ]
     },
     "execution_count": 13,
     "metadata": {},
     "output_type": "execute_result"
    }
   ],
   "source": [
    "has_invalid"
   ]
  },
  {
   "cell_type": "code",
   "execution_count": 14,
   "id": "duplicate-gibson",
   "metadata": {},
   "outputs": [
    {
     "data": {
      "text/plain": [
       "[((2, 1), (3, 1)),\n",
       " ((0, 1), (1, 0)),\n",
       " ((2, 1), (3, 3)),\n",
       " ((0, 3), (1, 0)),\n",
       " ((0, 3), (1, 1)),\n",
       " ((0, 2), (1, 2)),\n",
       " ((2, 3), (3, 1)),\n",
       " ((1, 0), (2, 0)),\n",
       " ((0, 2), (1, 3)),\n",
       " ((2, 1), (3, 2))]"
      ]
     },
     "execution_count": 14,
     "metadata": {},
     "output_type": "execute_result"
    }
   ],
   "source": [
    "list(invalid_info[\"invalid\"][\"unique\"])[:10]"
   ]
  },
  {
   "cell_type": "code",
   "execution_count": 15,
   "id": "arabic-speaking",
   "metadata": {},
   "outputs": [
    {
     "data": {
      "text/plain": [
       "0.1966321243523316"
      ]
     },
     "execution_count": 15,
     "metadata": {},
     "output_type": "execute_result"
    }
   ],
   "source": [
    "invalid_info[\"invalid\"][\"count\"] / len(logs)"
   ]
  },
  {
   "cell_type": "markdown",
   "id": "elect-philip",
   "metadata": {},
   "source": [
    "## Processing: Representation"
   ]
  },
  {
   "cell_type": "markdown",
   "id": "imposed-drunk",
   "metadata": {},
   "source": [
    "To solve the problem of estimating cumulative periodic rewards, we'll transform the data into a matrix format that allows us to solve the problem using least squares.\n",
    "\n",
    "Three such representations are explored:\n",
    "\n",
    "1. Presence: $(S_{1},A_{1}), (S_{1}, A_{2}),..(S_{2}, A_{1}),..(S_{n}, A_{n})$ -> in this format, we use a 1 to flag (state, action) pairs present in the sub-sequence and 0 for states that are absent\n",
    "\n",
    "2. Occurence: $(S_{1},A_{1}), (S_{1}, A_{2}),..(S_{2}, A_{1}),..(S_{n}, A_{n})$ -> in this format, we use the number of states each (state, action) pair appears in the sub-sequence\n",
    "\n",
    "3. Both: $(S_{1},A_{1})^{p}, (S_{1}, A_{1})^{o},..(S_{2}, A_{1})^{p}, (S_{2}, A_{1})^{o},..(S_{n}, A_{n})^{p}, (S_{n}, A_{n})^{o}$ -> in this format, we use two factors per (state, action) pair; one to indicate presence, and the other occurence."
   ]
  },
  {
   "cell_type": "code",
   "execution_count": 16,
   "id": "irish-credit",
   "metadata": {},
   "outputs": [],
   "source": [
    "def preprocessing(logs: Sequence[Mapping[Text, Any]], op: Callable[[Any], Any]):\n",
    "    factors, result = [], []\n",
    "    for log in logs:\n",
    "        row, y = op(log)\n",
    "        factors.append(row)\n",
    "        result.append(y)\n",
    "    return tf.convert_to_tensor(factors, tf.float32), tf.convert_to_tensor(\n",
    "        result, tf.float32\n",
    "    )"
   ]
  },
  {
   "cell_type": "code",
   "execution_count": 17,
   "id": "monthly-federation",
   "metadata": {},
   "outputs": [
    {
     "data": {
      "text/plain": [
       "{'step_type': [1, 1],\n",
       " 'observation': [[1, 0, 0, 0], [1, 0, 0, 0]],\n",
       " 'action': [1, 3],\n",
       " 'policy_info': {'log_probability': [-1.3862943649291992,\n",
       "   -1.3862943649291992]},\n",
       " 'next_step_type': [1, 1],\n",
       " 'reward': [-1.0, -3.0],\n",
       " 'discount': [1.0, 1.0]}"
      ]
     },
     "execution_count": 17,
     "metadata": {},
     "output_type": "execute_result"
    }
   ],
   "source": [
    "logs[1]"
   ]
  },
  {
   "cell_type": "code",
   "execution_count": 18,
   "id": "increasing-specification",
   "metadata": {},
   "outputs": [],
   "source": [
    "def create_presence_transform_op(num_states: int, num_actions: int):\n",
    "    def op(record: Mapping[Text, Any]) -> Tuple[Any, Any]:\n",
    "        row = np.zeros(shape=(num_states, num_actions))\n",
    "        steps = len(record[\"step_type\"])\n",
    "        cpr = sum(record[\"reward\"])\n",
    "        for step in range(steps):\n",
    "            state = state_id(record[\"observation\"][step])\n",
    "            action = record[\"action\"][step]\n",
    "            row[state, action] = 1\n",
    "        return row.flatten(), cpr\n",
    "\n",
    "    return op"
   ]
  },
  {
   "cell_type": "code",
   "execution_count": 19,
   "id": "proprietary-nature",
   "metadata": {},
   "outputs": [
    {
     "data": {
      "text/plain": [
       "(array([0., 1., 0., 1., 0., 0., 0., 0., 0., 0., 0., 0., 0., 0., 0., 0.]), -4.0)"
      ]
     },
     "execution_count": 19,
     "metadata": {},
     "output_type": "execute_result"
    }
   ],
   "source": [
    "create_presence_transform_op(4, 4)(logs[1])"
   ]
  },
  {
   "cell_type": "code",
   "execution_count": 20,
   "id": "silver-deposit",
   "metadata": {},
   "outputs": [],
   "source": [
    "def create_occurence_transform_op(num_states: int, num_actions: int):\n",
    "    def op(record: Mapping[Text, Any]) -> Tuple[Any, Any]:\n",
    "        row = np.zeros(shape=(num_states, num_actions))\n",
    "        steps = len(record[\"step_type\"])\n",
    "        cpr = sum(record[\"reward\"])\n",
    "        for step in range(steps):\n",
    "            state = state_id(record[\"observation\"][step])\n",
    "            action = record[\"action\"][step]\n",
    "            row[state, action] += 1\n",
    "        return row.flatten(), cpr\n",
    "\n",
    "    return op"
   ]
  },
  {
   "cell_type": "code",
   "execution_count": 21,
   "id": "personalized-enterprise",
   "metadata": {},
   "outputs": [
    {
     "data": {
      "text/plain": [
       "(array([0., 1., 0., 1., 0., 0., 0., 0., 0., 0., 0., 0., 0., 0., 0., 0.]), -4.0)"
      ]
     },
     "execution_count": 21,
     "metadata": {},
     "output_type": "execute_result"
    }
   ],
   "source": [
    "create_occurence_transform_op(4, 4)(logs[1])"
   ]
  },
  {
   "cell_type": "code",
   "execution_count": 22,
   "id": "legendary-convention",
   "metadata": {},
   "outputs": [],
   "source": [
    "def create_presence_and_occurence_transform_op(num_states: int, num_actions: int):\n",
    "    def op(record: Mapping[Text, Any]) -> Tuple[Any, Any]:\n",
    "        presence = np.zeros(shape=(num_states, num_actions))\n",
    "        occurrence = np.zeros(shape=(num_states, num_actions))\n",
    "        steps = len(record[\"step_type\"])\n",
    "        cpr = sum(record[\"reward\"])\n",
    "        for step in range(steps):\n",
    "            state = state_id(record[\"observation\"][step])\n",
    "            action = record[\"action\"][step]\n",
    "            presence[state, action] = 1\n",
    "            occurrence[state, action] += 1\n",
    "        return np.concatenate((presence, occurrence), axis=1).flatten(), cpr\n",
    "\n",
    "    return op"
   ]
  },
  {
   "cell_type": "code",
   "execution_count": 23,
   "id": "fancy-butler",
   "metadata": {},
   "outputs": [
    {
     "data": {
      "text/plain": [
       "(array([0., 1., 0., 1., 0., 1., 0., 1., 0., 0., 0., 0., 0., 0., 0., 0., 0.,\n",
       "        0., 0., 0., 0., 0., 0., 0., 0., 0., 0., 0., 0., 0., 0., 0.]),\n",
       " -4.0)"
      ]
     },
     "execution_count": 23,
     "metadata": {},
     "output_type": "execute_result"
    }
   ],
   "source": [
    "create_presence_and_occurence_transform_op(4, 4)(logs[1])"
   ]
  },
  {
   "cell_type": "markdown",
   "id": "advised-emphasis",
   "metadata": {},
   "source": [
    "## Least Squares Estimation"
   ]
  },
  {
   "cell_type": "code",
   "execution_count": 24,
   "id": "lucky-grant",
   "metadata": {},
   "outputs": [],
   "source": [
    "def solve_least_squares(\n",
    "    matrix: Union[tf.Tensor, np.ndarray],\n",
    "    rhs: Union[tf.Tensor, np.ndarray],\n",
    "    l2_regularizer: float = 0.5,\n",
    ") -> tf.Tensor:\n",
    "    \"\"\"\n",
    "    Computes the solution to n variables using Least-Squares.\n",
    "\n",
    "    Args:\n",
    "        matrix: A 2D tensor, A, shaped m x n.\n",
    "        rhs: A set of outcomes, b, shaped m.\n",
    "        l2_regularizer: A regularization factor.\n",
    "\n",
    "    Returns:\n",
    "        The solution x to the least-squares problem Ax=b, shaped n.\n",
    "    \"\"\"\n",
    "    shape = tf.shape(matrix)\n",
    "    if tf.size(shape) != 2:\n",
    "        raise ValueError(f\"Only 2D tensors are supported. Got shape: {shape}\")\n",
    "\n",
    "    matrix = tf.expand_dims(matrix, axis=0)\n",
    "    rhs = tf.expand_dims(rhs, axis=-1)\n",
    "    try:\n",
    "        result = tf.linalg.lstsq(matrix=matrix, rhs=rhs, l2_regularizer=l2_regularizer)\n",
    "    except tf.errors.InvalidArgumentError as err:\n",
    "        logging.error(\"LS failed!\")\n",
    "        return None\n",
    "    return tf.squeeze(result)"
   ]
  },
  {
   "cell_type": "code",
   "execution_count": 25,
   "id": "approximate-baking",
   "metadata": {},
   "outputs": [],
   "source": [
    "def rmse(\n",
    "    pred: Union[tf.Tensor, np.ndarray],\n",
    "    actual: Union[tf.Tensor, np.ndarray],\n",
    "    mask: Union[tf.Tensor, np.ndarray] = None,\n",
    ") -> tf.Tensor:\n",
    "    if mask is None:\n",
    "        mask = tf.ones_like(pred)\n",
    "    mask = tf.cast(mask, dtype=tf.bool)\n",
    "    y_pred = tf.cast(tf.boolean_mask(pred, mask), tf.float32)\n",
    "    y_actual = tf.cast(tf.boolean_mask(actual, mask), tf.float32)\n",
    "    return tf.sqrt(tf.reduce_mean(tf.pow(y_pred - y_actual, 2.0)))"
   ]
  },
  {
   "cell_type": "code",
   "execution_count": 26,
   "id": "white-gibraltar",
   "metadata": {},
   "outputs": [],
   "source": [
    "def reshape_single_factor_matrix(matrix, num_states: int, num_actions: int):\n",
    "    return tf.reshape(matrix, shape=(num_states, num_actions))"
   ]
  },
  {
   "cell_type": "code",
   "execution_count": 27,
   "id": "african-nation",
   "metadata": {},
   "outputs": [],
   "source": [
    "true_rtable = np.array(\n",
    "    [\n",
    "        [0.0, -1.0, -2.0, -3.0],\n",
    "        [-3.0, 0.0, -1.0, -2.0],\n",
    "        [-2.0, -3.0, 0.0, -1.0],\n",
    "        [-1.0, -1.0, -1.0, 0.0],\n",
    "    ]\n",
    ")"
   ]
  },
  {
   "cell_type": "markdown",
   "id": "neural-shade",
   "metadata": {},
   "source": [
    "### Presence"
   ]
  },
  {
   "cell_type": "code",
   "execution_count": 28,
   "id": "unlikely-consensus",
   "metadata": {},
   "outputs": [],
   "source": [
    "matrix, rhs = preprocessing(\n",
    "    logs, op=create_presence_transform_op(num_states=4, num_actions=4)\n",
    ")\n",
    "factors = solve_least_squares(matrix=matrix, rhs=rhs, l2_regularizer=0.0)\n",
    "if factors is not None:\n",
    "    result_presence = reshape_single_factor_matrix(factors, num_states=4, num_actions=4)"
   ]
  },
  {
   "cell_type": "code",
   "execution_count": 29,
   "id": "lightweight-asset",
   "metadata": {},
   "outputs": [
    {
     "data": {
      "text/plain": [
       "<tf.Tensor: shape=(4, 4), dtype=float32, numpy=\n",
       "array([[ 0.1023725 , -1.0286595 , -2.150843  , -3.3252237 ],\n",
       "       [-3.285166  ,  0.07678866, -1.0206928 , -2.0397308 ],\n",
       "       [-2.1272457 , -3.3301082 ,  0.06442698, -1.0141504 ],\n",
       "       [-1.0860469 , -1.098391  , -1.079862  ,  0.06730542]],\n",
       "      dtype=float32)>"
      ]
     },
     "execution_count": 29,
     "metadata": {},
     "output_type": "execute_result"
    }
   ],
   "source": [
    "result_presence"
   ]
  },
  {
   "cell_type": "code",
   "execution_count": 30,
   "id": "polyphonic-miller",
   "metadata": {},
   "outputs": [
    {
     "data": {
      "text/plain": [
       "<tf.Tensor: shape=(4, 4), dtype=float32, numpy=\n",
       "array([[ 0., -1., -2., -3.],\n",
       "       [-3.,  0., -1., -2.],\n",
       "       [-2., -3.,  0., -1.],\n",
       "       [-1., -1., -1.,  0.]], dtype=float32)>"
      ]
     },
     "execution_count": 30,
     "metadata": {},
     "output_type": "execute_result"
    }
   ],
   "source": [
    "tf.math.rint(result_presence)"
   ]
  },
  {
   "cell_type": "code",
   "execution_count": 31,
   "id": "comprehensive-crazy",
   "metadata": {},
   "outputs": [
    {
     "data": {
      "text/plain": [
       "<tf.Tensor: shape=(), dtype=float32, numpy=0.15543391>"
      ]
     },
     "execution_count": 31,
     "metadata": {},
     "output_type": "execute_result"
    }
   ],
   "source": [
    "rmse(result_presence, true_rtable)"
   ]
  },
  {
   "cell_type": "markdown",
   "id": "collective-renaissance",
   "metadata": {},
   "source": [
    "### Occurence"
   ]
  },
  {
   "cell_type": "code",
   "execution_count": 32,
   "id": "binary-moment",
   "metadata": {},
   "outputs": [],
   "source": [
    "matrix, rhs = preprocessing(\n",
    "    logs, op=create_occurence_transform_op(num_states=4, num_actions=4)\n",
    ")\n",
    "factors = solve_least_squares(matrix=matrix, rhs=rhs, l2_regularizer=0.0)\n",
    "if factors is not None:\n",
    "    result_occurrence = reshape_single_factor_matrix(\n",
    "        factors, num_states=4, num_actions=4\n",
    "    )"
   ]
  },
  {
   "cell_type": "code",
   "execution_count": 33,
   "id": "ambient-charleston",
   "metadata": {},
   "outputs": [
    {
     "data": {
      "text/plain": [
       "<tf.Tensor: shape=(4, 4), dtype=float32, numpy=\n",
       "array([[ 8.9562590e-08, -9.9999982e-01, -1.9999999e+00, -3.0000000e+00],\n",
       "       [-2.9999998e+00,  3.2102793e-08, -1.0000000e+00, -2.0000005e+00],\n",
       "       [-1.9999996e+00, -3.0000000e+00,  1.2154199e-07, -1.0000002e+00],\n",
       "       [-1.0000001e+00, -1.0000002e+00, -9.9999982e-01, -7.1422448e-08]],\n",
       "      dtype=float32)>"
      ]
     },
     "execution_count": 33,
     "metadata": {},
     "output_type": "execute_result"
    }
   ],
   "source": [
    "result_occurrence"
   ]
  },
  {
   "cell_type": "code",
   "execution_count": 34,
   "id": "danish-audio",
   "metadata": {},
   "outputs": [
    {
     "data": {
      "text/plain": [
       "<tf.Tensor: shape=(4, 4), dtype=float32, numpy=\n",
       "array([[ 0., -1., -2., -3.],\n",
       "       [-3.,  0., -1., -2.],\n",
       "       [-2., -3.,  0., -1.],\n",
       "       [-1., -1., -1., -0.]], dtype=float32)>"
      ]
     },
     "execution_count": 34,
     "metadata": {},
     "output_type": "execute_result"
    }
   ],
   "source": [
    "tf.math.rint(result_occurrence)"
   ]
  },
  {
   "cell_type": "code",
   "execution_count": 35,
   "id": "boolean-perfume",
   "metadata": {},
   "outputs": [
    {
     "data": {
      "text/plain": [
       "<tf.Tensor: shape=(), dtype=float32, numpy=2.0110598e-07>"
      ]
     },
     "execution_count": 35,
     "metadata": {},
     "output_type": "execute_result"
    }
   ],
   "source": [
    "rmse(result_occurrence, true_rtable)"
   ]
  },
  {
   "cell_type": "markdown",
   "id": "stuffed-taxation",
   "metadata": {},
   "source": [
    "### Both"
   ]
  },
  {
   "cell_type": "code",
   "execution_count": 36,
   "id": "acquired-sweden",
   "metadata": {},
   "outputs": [
    {
     "name": "stderr",
     "output_type": "stream",
     "text": [
      "ERROR:root:LS failed!\n"
     ]
    }
   ],
   "source": [
    "matrix, rhs = preprocessing(\n",
    "    logs, op=create_presence_and_occurence_transform_op(num_states=4, num_actions=4)\n",
    ")\n",
    "factors = solve_least_squares(matrix=matrix, rhs=rhs, l2_regularizer=0.0)\n",
    "if factors is not None:\n",
    "    result_presence = reshape_single_factor_matrix(\n",
    "        factors, num_states=4, num_actions=4 * 2\n",
    "    )"
   ]
  },
  {
   "cell_type": "markdown",
   "id": "homeless-donor",
   "metadata": {},
   "source": [
    "**Notes**\n",
    "\n",
    "  - Both the presence and occurence format reach reward estimates that are close to the true reward values.\n",
    "  - Occurence has a much narrow gap to the true values, with an RMSE almost equal to zero.\n",
    "  - The representation that relies on both has no solution - every factor for occurence should be 1.\n",
    "  \n",
    "  \n",
    "The fact that occurence has a much closer result is expected, since transitions containing the same (state, action) pair won't would require a different factor variable otherwise. This also likely the reason why the presence representation has more different values."
   ]
  },
  {
   "cell_type": "markdown",
   "id": "intensive-holmes",
   "metadata": {},
   "source": [
    "## How much data?"
   ]
  },
  {
   "cell_type": "markdown",
   "id": "drawn-integration",
   "metadata": {},
   "source": [
    "Knowing that the occurence representation gives reasonable estimates of reward, let's to evaluate the volume of data against error."
   ]
  },
  {
   "cell_type": "code",
   "execution_count": 37,
   "id": "pleasant-stanford",
   "metadata": {},
   "outputs": [],
   "source": [
    "def estimate_error_per_data(\n",
    "    logs,\n",
    "    percentage: float,\n",
    "    iterations: int,\n",
    "    num_letters: int,\n",
    "    true_rtable: Union[tf.Tensor, np.ndarray],\n",
    "):\n",
    "    num_states = num_letters + 1\n",
    "    num_actions = num_letters + 1\n",
    "    errors = []\n",
    "    total = len(logs)\n",
    "    matrix, rhs = preprocessing(\n",
    "        logs,\n",
    "        op=create_occurence_transform_op(\n",
    "            num_states=num_states, num_actions=num_actions\n",
    "        ),\n",
    "    )\n",
    "    print(f\"perc: {percentage}\")\n",
    "    for i in range(iterations):\n",
    "        indices = tf.constant(\n",
    "            np.random.choice(range(total), int(percentage * total)).tolist(), tf.int64\n",
    "        )\n",
    "        sample_matrix = tf.gather(matrix, indices)\n",
    "        sample_rhs = tf.gather(rhs, indices)\n",
    "        ls = solve_least_squares(\n",
    "            matrix=sample_matrix, rhs=sample_rhs, l2_regularizer=0.0\n",
    "        )\n",
    "        result_occurence = reshape_single_factor_matrix(\n",
    "            ls, num_states=num_states, num_actions=num_actions\n",
    "        )\n",
    "        errors.append(rmse(result_occurence, true_rtable))\n",
    "    return np.mean(errors), np.std(errors, ddof=1)"
   ]
  },
  {
   "cell_type": "code",
   "execution_count": 38,
   "id": "considered-thumb",
   "metadata": {},
   "outputs": [],
   "source": [
    "def error_over_data_perc(logs, num_letters, percentages, true_rtable, iterations):\n",
    "    errors = []\n",
    "    stds = []\n",
    "    for perc in percentages:\n",
    "        error_mean, error_std = estimate_error_per_data(\n",
    "            logs,\n",
    "            percentage=perc,\n",
    "            iterations=iterations,\n",
    "            num_letters=num_letters,\n",
    "            true_rtable=true_rtable,\n",
    "        )\n",
    "        errors.append(error_mean)\n",
    "        stds.append(error_std)\n",
    "    return np.array(errors), np.array(stds)"
   ]
  },
  {
   "cell_type": "code",
   "execution_count": 39,
   "id": "floral-pocket",
   "metadata": {},
   "outputs": [
    {
     "name": "stdout",
     "output_type": "stream",
     "text": [
      "perc: 0.1\n",
      "perc: 0.3\n",
      "perc: 0.5\n",
      "perc: 0.7\n",
      "perc: 9.0\n",
      "CPU times: user 2.73 s, sys: 114 ms, total: 2.85 s\n",
      "Wall time: 2.88 s\n"
     ]
    }
   ],
   "source": [
    "%%time\n",
    "iteartions = 100\n",
    "percentages = (0.1, 0.3, 0.5, 0.7, 9.0)\n",
    "errors, stds = error_over_data_perc(\n",
    "    logs,\n",
    "    num_letters=3,\n",
    "    percentages=percentages,\n",
    "    true_rtable=true_rtable,\n",
    "    iterations=iteartions,\n",
    ")"
   ]
  },
  {
   "cell_type": "code",
   "execution_count": 40,
   "id": "scientific-occasion",
   "metadata": {},
   "outputs": [],
   "source": [
    "sme = stds / np.sqrt(iteartions)"
   ]
  },
  {
   "cell_type": "code",
   "execution_count": 41,
   "id": "inappropriate-maryland",
   "metadata": {},
   "outputs": [],
   "source": [
    "def generate_metric_figure_from_values(steps, values, title, ax, label, ci=None):\n",
    "    ax.set_title(title)\n",
    "    ax.plot(steps, values, label=label)\n",
    "    if ci is not None:\n",
    "        upper_ci = values + ci\n",
    "        lower_ci = values - ci\n",
    "        ax.fill_between(steps, lower_ci, upper_ci, alpha=0.4, label=\"CI\")\n",
    "    ax.ticklabel_format(style=\"sci\", scilimits=(1, 2))\n",
    "    ax.legend()\n",
    "    return ax"
   ]
  },
  {
   "cell_type": "code",
   "execution_count": 42,
   "id": "parliamentary-payday",
   "metadata": {},
   "outputs": [
    {
     "data": {
      "text/plain": [
       "<AxesSubplot:title={'center':'Data % v RMSE'}>"
      ]
     },
     "execution_count": 42,
     "metadata": {},
     "output_type": "execute_result"
    },
    {
     "data": {
      "image/png": "[encoded data removed]",
      "text/plain": [
       "<Figure size 432x288 with 1 Axes>"
      ]
     },
     "metadata": {
      "needs_background": "light"
     },
     "output_type": "display_data"
    }
   ],
   "source": [
    "fig, ax = plt.subplots()\n",
    "generate_metric_figure_from_values(\n",
    "    percentages, errors, title=\"Data % v RMSE\", ax=ax, label=\"error\", ci=sme\n",
    ")"
   ]
  },
  {
   "cell_type": "markdown",
   "id": "inclusive-kinase",
   "metadata": {},
   "source": [
    "## Summary\n",
    "\n",
    "We find that:\n",
    "  - Occurrence as a representation factor for (state, action) pairs gives reasonable approximiate results.\n",
    "  - The standard mean error for the estimate is small with as little as 10% of 43,663 transitions (each with two steps)"
   ]
  }
 ],
 "metadata": {
  "kernelspec": {
   "display_name": "Python 3 (ipykernel)",
   "language": "python",
   "name": "python3"
  },
  "language_info": {
   "codemirror_mode": {
    "name": "ipython",
    "version": 3
   },
   "file_extension": ".py",
   "mimetype": "text/x-python",
   "name": "python",
   "nbconvert_exporter": "python",
   "pygments_lexer": "ipython3",
   "version": "3.7.11"
  }
 },
 "nbformat": 4,
 "nbformat_minor": 5
}
